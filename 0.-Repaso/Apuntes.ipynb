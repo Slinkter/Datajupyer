{
 "cells": [
  {
   "cell_type": "code",
   "execution_count": 2,
   "id": "3e29b3ef-d480-4fde-b299-d3737dcd107d",
   "metadata": {},
   "outputs": [
    {
     "name": "stdout",
     "output_type": "stream",
     "text": [
      "hola\n"
     ]
    }
   ],
   "source": [
    "print(\"hola\")"
   ]
  },
  {
   "cell_type": "code",
   "execution_count": 3,
   "id": "fc9bfb66",
   "metadata": {},
   "outputs": [],
   "source": [
    "countries=[\"Argentina\", \"Brasil\", \"Colombia\", \"Chile\", \"Peru\"]"
   ]
  },
  {
   "cell_type": "code",
   "execution_count": 4,
   "id": "2acecb8c",
   "metadata": {},
   "outputs": [
    {
     "name": "stdout",
     "output_type": "stream",
     "text": [
      "['Argentina', 'Brasil', 'Colombia', 'Chile', 'Peru']\n"
     ]
    }
   ],
   "source": [
    "print(countries)"
   ]
  },
  {
   "cell_type": "code",
   "execution_count": 5,
   "id": "f051b7eb",
   "metadata": {},
   "outputs": [
    {
     "name": "stdout",
     "output_type": "stream",
     "text": [
      "['Argentina', 'Brasil', 'Colombia', 'Chile']\n"
     ]
    }
   ],
   "source": [
    "print(countries[0:-1])"
   ]
  },
  {
   "cell_type": "code",
   "execution_count": 6,
   "id": "62324b15",
   "metadata": {},
   "outputs": [
    {
     "data": {
      "text/plain": [
       "['Argentina', 'Brasil', 'Colombia', 'Chile']"
      ]
     },
     "execution_count": 6,
     "metadata": {},
     "output_type": "execute_result"
    }
   ],
   "source": [
    "countries[:-1]"
   ]
  },
  {
   "cell_type": "code",
   "execution_count": 7,
   "id": "1375a95d",
   "metadata": {},
   "outputs": [
    {
     "data": {
      "text/plain": [
       "['Argentina']"
      ]
     },
     "execution_count": 7,
     "metadata": {},
     "output_type": "execute_result"
    }
   ],
   "source": [
    "countries[0:1]"
   ]
  },
  {
   "cell_type": "code",
   "execution_count": 8,
   "id": "0bbf892f",
   "metadata": {},
   "outputs": [],
   "source": [
    "countries.append(\"Canada\")"
   ]
  },
  {
   "cell_type": "code",
   "execution_count": 9,
   "id": "d0798dc5",
   "metadata": {},
   "outputs": [
    {
     "name": "stdout",
     "output_type": "stream",
     "text": [
      "['Argentina', 'Brasil', 'Colombia', 'Chile', 'Peru', 'Canada']\n"
     ]
    }
   ],
   "source": [
    "print(countries)"
   ]
  },
  {
   "cell_type": "code",
   "execution_count": 10,
   "id": "a04352a4",
   "metadata": {},
   "outputs": [],
   "source": [
    "countries.insert(0,\"Venezuela\")"
   ]
  },
  {
   "cell_type": "code",
   "execution_count": 11,
   "id": "67d48d5f",
   "metadata": {},
   "outputs": [
    {
     "name": "stdout",
     "output_type": "stream",
     "text": [
      "['Venezuela', 'Argentina', 'Brasil', 'Colombia', 'Chile', 'Peru', 'Canada']\n"
     ]
    }
   ],
   "source": [
    "print(countries)"
   ]
  },
  {
   "cell_type": "code",
   "execution_count": 12,
   "id": "8f4895f1",
   "metadata": {},
   "outputs": [],
   "source": [
    "contries_2 = [\"UK\", \"Germany\", \"France\"]"
   ]
  },
  {
   "cell_type": "code",
   "execution_count": 13,
   "id": "e8d2cbf7",
   "metadata": {},
   "outputs": [
    {
     "data": {
      "text/plain": [
       "['Venezuela',\n",
       " 'Argentina',\n",
       " 'Brasil',\n",
       " 'Colombia',\n",
       " 'Chile',\n",
       " 'Peru',\n",
       " 'Canada',\n",
       " 'UK',\n",
       " 'Germany',\n",
       " 'France']"
      ]
     },
     "execution_count": 13,
     "metadata": {},
     "output_type": "execute_result"
    }
   ],
   "source": [
    "countries + contries_2"
   ]
  },
  {
   "cell_type": "code",
   "execution_count": 14,
   "id": "d642fea9",
   "metadata": {},
   "outputs": [
    {
     "name": "stdout",
     "output_type": "stream",
     "text": [
      "['Venezuela', 'Argentina', 'Brasil', 'Colombia', 'Chile', 'Peru', 'Canada', 'UK', 'Germany', 'France']\n"
     ]
    }
   ],
   "source": [
    "nueva_lista = countries + contries_2\n",
    "print(nueva_lista)"
   ]
  },
  {
   "cell_type": "code",
   "execution_count": 15,
   "id": "19a27f4a",
   "metadata": {},
   "outputs": [],
   "source": [
    "type(nueva_lista)\n",
    "nueva_lista.remove(\"UK\")\n"
   ]
  },
  {
   "cell_type": "code",
   "execution_count": 16,
   "id": "0dcf5690",
   "metadata": {},
   "outputs": [
    {
     "data": {
      "text/plain": [
       "['Venezuela',\n",
       " 'Argentina',\n",
       " 'Brasil',\n",
       " 'Colombia',\n",
       " 'Chile',\n",
       " 'Peru',\n",
       " 'Canada',\n",
       " 'Germany',\n",
       " 'France']"
      ]
     },
     "execution_count": 16,
     "metadata": {},
     "output_type": "execute_result"
    }
   ],
   "source": [
    "nueva_lista"
   ]
  },
  {
   "cell_type": "code",
   "execution_count": 17,
   "id": "b1d21250",
   "metadata": {},
   "outputs": [
    {
     "data": {
      "text/plain": [
       "'Argentina'"
      ]
     },
     "execution_count": 17,
     "metadata": {},
     "output_type": "execute_result"
    }
   ],
   "source": [
    "nueva_lista.pop(1)"
   ]
  },
  {
   "cell_type": "code",
   "execution_count": 18,
   "id": "7fc36d25",
   "metadata": {},
   "outputs": [
    {
     "name": "stdout",
     "output_type": "stream",
     "text": [
      "['Venezuela', 'Brasil', 'Colombia', 'Chile', 'Peru', 'Canada', 'Germany', 'France']\n"
     ]
    }
   ],
   "source": [
    "print(nueva_lista)"
   ]
  },
  {
   "cell_type": "code",
   "execution_count": 19,
   "id": "f1a3a1ab",
   "metadata": {},
   "outputs": [],
   "source": [
    "del nueva_lista[0]"
   ]
  },
  {
   "cell_type": "code",
   "execution_count": 20,
   "id": "002e6bbb",
   "metadata": {},
   "outputs": [
    {
     "data": {
      "text/plain": [
       "['Brasil', 'Colombia', 'Chile', 'Peru', 'Canada', 'Germany', 'France']"
      ]
     },
     "execution_count": 20,
     "metadata": {},
     "output_type": "execute_result"
    }
   ],
   "source": [
    "nueva_lista\n"
   ]
  },
  {
   "cell_type": "code",
   "execution_count": 21,
   "id": "575b94b3",
   "metadata": {},
   "outputs": [],
   "source": [
    "numbers = [3,4,1,6,3,8,9,0,2]"
   ]
  },
  {
   "cell_type": "code",
   "execution_count": 22,
   "id": "b15e816f",
   "metadata": {},
   "outputs": [],
   "source": [
    "numbers.sort()"
   ]
  },
  {
   "cell_type": "code",
   "execution_count": 23,
   "id": "28917375",
   "metadata": {},
   "outputs": [
    {
     "data": {
      "text/plain": [
       "[0, 1, 2, 3, 3, 4, 6, 8, 9]"
      ]
     },
     "execution_count": 23,
     "metadata": {},
     "output_type": "execute_result"
    }
   ],
   "source": [
    "numbers"
   ]
  },
  {
   "cell_type": "code",
   "execution_count": 24,
   "id": "f42bc7f9",
   "metadata": {},
   "outputs": [],
   "source": [
    "numbers.sort(reverse=True)"
   ]
  },
  {
   "cell_type": "code",
   "execution_count": 25,
   "id": "b41f398f",
   "metadata": {},
   "outputs": [
    {
     "data": {
      "text/plain": [
       "[9, 8, 6, 4, 3, 3, 2, 1, 0]"
      ]
     },
     "execution_count": 25,
     "metadata": {},
     "output_type": "execute_result"
    }
   ],
   "source": [
    "numbers"
   ]
  },
  {
   "cell_type": "code",
   "execution_count": 26,
   "id": "20aa9d6e",
   "metadata": {},
   "outputs": [],
   "source": [
    "numbers[0] = 1000"
   ]
  },
  {
   "cell_type": "code",
   "execution_count": 27,
   "id": "80978dd5",
   "metadata": {},
   "outputs": [
    {
     "data": {
      "text/plain": [
       "[1000, 8, 6, 4, 3, 3, 2, 1, 0]"
      ]
     },
     "execution_count": 27,
     "metadata": {},
     "output_type": "execute_result"
    }
   ],
   "source": [
    "numbers"
   ]
  },
  {
   "cell_type": "code",
   "execution_count": 28,
   "id": "0e515dcf",
   "metadata": {},
   "outputs": [
    {
     "name": "stdout",
     "output_type": "stream",
     "text": [
      "[1000, 8, 6, 4, 3, 3, 2, 1, 0]\n"
     ]
    }
   ],
   "source": [
    "nueva_array = numbers.copy()\n",
    "print(nueva_array)"
   ]
  },
  {
   "cell_type": "code",
   "execution_count": 29,
   "id": "58e02fd2",
   "metadata": {},
   "outputs": [
    {
     "data": {
      "text/plain": [
       "['Brasil', 'Colombia']"
      ]
     },
     "execution_count": 29,
     "metadata": {},
     "output_type": "execute_result"
    }
   ],
   "source": [
    "nueva_lista[0:2]\n"
   ]
  },
  {
   "cell_type": "code",
   "execution_count": 30,
   "id": "846c334a",
   "metadata": {},
   "outputs": [],
   "source": [
    "nuevo_array_2 = numbers[:]"
   ]
  },
  {
   "cell_type": "code",
   "execution_count": 31,
   "id": "8844f4b6",
   "metadata": {},
   "outputs": [
    {
     "data": {
      "text/plain": [
       "[1000, 8, 6, 4, 3, 3, 2, 1, 0]"
      ]
     },
     "execution_count": 31,
     "metadata": {},
     "output_type": "execute_result"
    }
   ],
   "source": [
    "nuevo_array_2"
   ]
  },
  {
   "cell_type": "code",
   "execution_count": null,
   "id": "10072b04",
   "metadata": {},
   "outputs": [],
   "source": []
  },
  {
   "cell_type": "code",
   "execution_count": 32,
   "id": "403227f0",
   "metadata": {},
   "outputs": [
    {
     "name": "stdout",
     "output_type": "stream",
     "text": [
      "{'key1': 1, 'key2': 2, 'key3': 3}\n"
     ]
    }
   ],
   "source": [
    "mi_diccionario = {\"key1\":1 , \"key2\":2, \"key3\":3}\n",
    "print(mi_diccionario)"
   ]
  },
  {
   "cell_type": "code",
   "execution_count": 33,
   "id": "e301330e",
   "metadata": {},
   "outputs": [
    {
     "name": "stdout",
     "output_type": "stream",
     "text": [
      "{'name': 'liam', 'age': 25, 'country': 'UK'}\n"
     ]
    }
   ],
   "source": [
    "my_data = {\"name\":\"liam\", \"age\":25, \"country\":\"UK\"}\n",
    "print(my_data)"
   ]
  },
  {
   "cell_type": "code",
   "execution_count": 34,
   "id": "d28f5902",
   "metadata": {},
   "outputs": [
    {
     "data": {
      "text/plain": [
       "'liam'"
      ]
     },
     "execution_count": 34,
     "metadata": {},
     "output_type": "execute_result"
    }
   ],
   "source": [
    "my_data[\"name\"]"
   ]
  },
  {
   "cell_type": "code",
   "execution_count": 35,
   "id": "f9d82bde",
   "metadata": {},
   "outputs": [
    {
     "data": {
      "text/plain": [
       "dict_keys(['name', 'age', 'country'])"
      ]
     },
     "execution_count": 35,
     "metadata": {},
     "output_type": "execute_result"
    }
   ],
   "source": [
    "my_data.keys()"
   ]
  },
  {
   "cell_type": "code",
   "execution_count": 36,
   "id": "d21aa3fb",
   "metadata": {},
   "outputs": [
    {
     "data": {
      "text/plain": [
       "dict_values(['liam', 25, 'UK'])"
      ]
     },
     "execution_count": 36,
     "metadata": {},
     "output_type": "execute_result"
    }
   ],
   "source": [
    "my_data.values()"
   ]
  },
  {
   "cell_type": "code",
   "execution_count": 37,
   "id": "b1c899be",
   "metadata": {},
   "outputs": [
    {
     "data": {
      "text/plain": [
       "dict_items([('name', 'liam'), ('age', 25), ('country', 'UK')])"
      ]
     },
     "execution_count": 37,
     "metadata": {},
     "output_type": "execute_result"
    }
   ],
   "source": [
    "my_data.items()"
   ]
  },
  {
   "cell_type": "code",
   "execution_count": 38,
   "id": "ff992d4a",
   "metadata": {},
   "outputs": [],
   "source": [
    "my_person = {\"name\":\"liam\", \"age\":25, \"country\":\"UK\"}"
   ]
  },
  {
   "cell_type": "code",
   "execution_count": 39,
   "id": "3e1fbd10",
   "metadata": {},
   "outputs": [
    {
     "name": "stdout",
     "output_type": "stream",
     "text": [
      "{'name': 'liam', 'age': 29, 'country': 'UK'}\n"
     ]
    }
   ],
   "source": [
    "my_person[\"age\"] = 29\n",
    "print(my_person)"
   ]
  },
  {
   "cell_type": "code",
   "execution_count": 40,
   "id": "727f1c74",
   "metadata": {},
   "outputs": [
    {
     "name": "stdout",
     "output_type": "stream",
     "text": [
      "{'name': 'liam', 'age': 30, 'country': 'UK', 'software': ['Python', 'R', 'SQL']}\n"
     ]
    }
   ],
   "source": [
    "my_person.update({\"age\":30 , \"software\":[\"Python\", \"R\", \"SQL\"]})\n",
    "print(my_person)"
   ]
  },
  {
   "cell_type": "code",
   "execution_count": 41,
   "id": "7621c60d",
   "metadata": {},
   "outputs": [],
   "source": [
    "del my_person['software']"
   ]
  },
  {
   "cell_type": "code",
   "execution_count": 42,
   "id": "20cfa02b",
   "metadata": {},
   "outputs": [
    {
     "data": {
      "text/plain": [
       "{'name': 'liam', 'age': 30, 'country': 'UK'}"
      ]
     },
     "execution_count": 42,
     "metadata": {},
     "output_type": "execute_result"
    }
   ],
   "source": [
    "my_person"
   ]
  },
  {
   "cell_type": "code",
   "execution_count": null,
   "id": "923ba731",
   "metadata": {},
   "outputs": [],
   "source": []
  },
  {
   "cell_type": "code",
   "execution_count": 43,
   "id": "091b7edd",
   "metadata": {},
   "outputs": [
    {
     "name": "stdout",
     "output_type": "stream",
     "text": [
      "iguales\n"
     ]
    }
   ],
   "source": [
    "a=2\n",
    "b=2\n",
    "if a<b:\n",
    "    print('verdadero')\n",
    "elif a>b:\n",
    "    print('falso')\n",
    "else:\n",
    "    print('iguales')"
   ]
  },
  {
   "cell_type": "code",
   "execution_count": 44,
   "id": "68e6256e",
   "metadata": {},
   "outputs": [
    {
     "name": "stdout",
     "output_type": "stream",
     "text": [
      "no esta admitido\n"
     ]
    }
   ],
   "source": [
    "edad = 12\n",
    "\n",
    "if edad>=18 :\n",
    "    print('puedes ingresar ')\n",
    "elif edad>= 13:\n",
    "    print('aprobaste')\n",
    "else:\n",
    "    print('no esta admitido')\n"
   ]
  },
  {
   "cell_type": "code",
   "execution_count": 48,
   "id": "fbe35388",
   "metadata": {},
   "outputs": [
    {
     "name": "stdout",
     "output_type": "stream",
     "text": [
      "si esta en la lista\n"
     ]
    }
   ],
   "source": [
    "if 'Argentina' in countries:\n",
    "    print('si esta en la lista')\n",
    "else:\n",
    "    print(' el pais no esta en la lista')\n"
   ]
  },
  {
   "cell_type": "code",
   "execution_count": 47,
   "id": "98674d38",
   "metadata": {},
   "outputs": [
    {
     "data": {
      "text/plain": [
       "['Venezuela', 'Argentina', 'Brasil', 'Colombia', 'Chile', 'Peru', 'Canada']"
      ]
     },
     "execution_count": 47,
     "metadata": {},
     "output_type": "execute_result"
    }
   ],
   "source": [
    "countries"
   ]
  },
  {
   "cell_type": "code",
   "execution_count": 49,
   "id": "1587c6bc",
   "metadata": {},
   "outputs": [
    {
     "name": "stdout",
     "output_type": "stream",
     "text": [
      "Venezuela\n",
      "Argentina\n",
      "Brasil\n",
      "Colombia\n",
      "Chile\n",
      "Peru\n",
      "Canada\n"
     ]
    }
   ],
   "source": [
    "for i in countries:\n",
    "    print(i)"
   ]
  },
  {
   "cell_type": "code",
   "execution_count": 50,
   "id": "a9b367f1",
   "metadata": {},
   "outputs": [
    {
     "name": "stdout",
     "output_type": "stream",
     "text": [
      "  0   Venezuela\n",
      "  1   Argentina\n",
      "  2   Brasil\n",
      "  3   Colombia\n",
      "  4   Chile\n",
      "  5   Peru\n",
      "  6   Canada\n"
     ]
    }
   ],
   "source": [
    "for numbero,pais in enumerate(countries):\n",
    "    print(' ' ,numbero,' ',pais)"
   ]
  },
  {
   "cell_type": "code",
   "execution_count": 51,
   "id": "275a7d79",
   "metadata": {},
   "outputs": [
    {
     "data": {
      "text/plain": [
       "{'name': 'liam', 'age': 25, 'country': 'UK'}"
      ]
     },
     "execution_count": 51,
     "metadata": {},
     "output_type": "execute_result"
    }
   ],
   "source": [
    "my_data"
   ]
  },
  {
   "cell_type": "code",
   "execution_count": 54,
   "id": "cd9c42cf",
   "metadata": {},
   "outputs": [
    {
     "data": {
      "text/plain": [
       "dict_items([('name', 'liam'), ('age', 25), ('country', 'UK')])"
      ]
     },
     "execution_count": 54,
     "metadata": {},
     "output_type": "execute_result"
    }
   ],
   "source": [
    "my_data.items()"
   ]
  },
  {
   "cell_type": "code",
   "execution_count": 55,
   "id": "130a6078",
   "metadata": {},
   "outputs": [
    {
     "name": "stdout",
     "output_type": "stream",
     "text": [
      "name   liam\n",
      "age   25\n",
      "country   UK\n"
     ]
    }
   ],
   "source": [
    "for key,value in my_data.items():\n",
    "    print(key,' ', value)"
   ]
  },
  {
   "cell_type": "code",
   "execution_count": null,
   "id": "7b88a2bd",
   "metadata": {},
   "outputs": [],
   "source": []
  },
  {
   "cell_type": "code",
   "execution_count": 56,
   "id": "1e44c9b1",
   "metadata": {},
   "outputs": [
    {
     "data": {
      "text/plain": [
       "['Venezuela', 'Argentina', 'Brasil', 'Colombia', 'Chile', 'Peru', 'Canada']"
      ]
     },
     "execution_count": 56,
     "metadata": {},
     "output_type": "execute_result"
    }
   ],
   "source": [
    "countries "
   ]
  },
  {
   "cell_type": "code",
   "execution_count": 57,
   "id": "3867bb10",
   "metadata": {},
   "outputs": [
    {
     "data": {
      "text/plain": [
       "7"
      ]
     },
     "execution_count": 57,
     "metadata": {},
     "output_type": "execute_result"
    }
   ],
   "source": [
    "len(countries)"
   ]
  },
  {
   "cell_type": "code",
   "execution_count": 58,
   "id": "2e13a541",
   "metadata": {},
   "outputs": [
    {
     "data": {
      "text/plain": [
       "96"
      ]
     },
     "execution_count": 58,
     "metadata": {},
     "output_type": "execute_result"
    }
   ],
   "source": [
    "max([53,12,34,23,96])\n"
   ]
  },
  {
   "cell_type": "code",
   "execution_count": 59,
   "id": "80c52c84",
   "metadata": {},
   "outputs": [
    {
     "data": {
      "text/plain": [
       "12"
      ]
     },
     "execution_count": 59,
     "metadata": {},
     "output_type": "execute_result"
    }
   ],
   "source": [
    "min([53,12,34,23,96])"
   ]
  },
  {
   "cell_type": "code",
   "execution_count": 60,
   "id": "905d7611",
   "metadata": {},
   "outputs": [
    {
     "data": {
      "text/plain": [
       "list"
      ]
     },
     "execution_count": 60,
     "metadata": {},
     "output_type": "execute_result"
    }
   ],
   "source": [
    "type(countries)"
   ]
  },
  {
   "cell_type": "code",
   "execution_count": 61,
   "id": "e91c06a5",
   "metadata": {},
   "outputs": [
    {
     "data": {
      "text/plain": [
       "dict"
      ]
     },
     "execution_count": 61,
     "metadata": {},
     "output_type": "execute_result"
    }
   ],
   "source": [
    "type(my_data)"
   ]
  },
  {
   "cell_type": "code",
   "execution_count": 64,
   "id": "25697f8e",
   "metadata": {},
   "outputs": [
    {
     "data": {
      "text/plain": [
       "2.33"
      ]
     },
     "execution_count": 64,
     "metadata": {},
     "output_type": "execute_result"
    }
   ],
   "source": [
    "round(2.333,2)"
   ]
  },
  {
   "cell_type": "code",
   "execution_count": 68,
   "id": "697dfda8",
   "metadata": {},
   "outputs": [
    {
     "name": "stdout",
     "output_type": "stream",
     "text": [
      "1\n",
      "2\n",
      "3\n",
      "4\n",
      "5\n",
      "6\n",
      "7\n",
      "8\n",
      "9\n"
     ]
    }
   ],
   "source": [
    "for i in range(1,10,1):\n",
    "    print(i)"
   ]
  },
  {
   "cell_type": "code",
   "execution_count": null,
   "id": "083c0576",
   "metadata": {},
   "outputs": [
    {
     "name": "stdout",
     "output_type": "stream",
     "text": [
      "1\n",
      "3\n",
      "5\n",
      "7\n",
      "9\n"
     ]
    }
   ],
   "source": []
  },
  {
   "cell_type": "code",
   "execution_count": null,
   "id": "be3b371d",
   "metadata": {},
   "outputs": [],
   "source": []
  },
  {
   "cell_type": "code",
   "execution_count": 69,
   "id": "aa59d5f6",
   "metadata": {},
   "outputs": [],
   "source": [
    "def sumar_numero(a,b):\n",
    "    print(a+b)"
   ]
  },
  {
   "cell_type": "code",
   "execution_count": 70,
   "id": "02a1811f",
   "metadata": {},
   "outputs": [
    {
     "name": "stdout",
     "output_type": "stream",
     "text": [
      "10\n"
     ]
    }
   ],
   "source": [
    "sumar_numero(5,5)"
   ]
  },
  {
   "cell_type": "code",
   "execution_count": 71,
   "id": "ea719c39",
   "metadata": {},
   "outputs": [],
   "source": [
    "import os"
   ]
  },
  {
   "cell_type": "code",
   "execution_count": 73,
   "id": "11684010",
   "metadata": {},
   "outputs": [
    {
     "name": "stdout",
     "output_type": "stream",
     "text": [
      "c:\\Users\\Glass\\Documents\\GitHub\\Datajupyer\\0.-Repaso\n"
     ]
    }
   ],
   "source": [
    "print(os.getcwd())"
   ]
  },
  {
   "cell_type": "code",
   "execution_count": 74,
   "id": "cecbf49b",
   "metadata": {},
   "outputs": [
    {
     "data": {
      "text/plain": [
       "['.ipynb_checkpoints', 'Apuntes.ipynb']"
      ]
     },
     "execution_count": 74,
     "metadata": {},
     "output_type": "execute_result"
    }
   ],
   "source": [
    "os.listdir()"
   ]
  },
  {
   "cell_type": "code",
   "execution_count": 75,
   "id": "5f43bae7",
   "metadata": {},
   "outputs": [],
   "source": [
    "os.makedirs('nueva carperta')"
   ]
  },
  {
   "cell_type": "code",
   "execution_count": 77,
   "id": "ad77a01a",
   "metadata": {},
   "outputs": [
    {
     "data": {
      "text/plain": [
       "['.ipynb_checkpoints', 'Apuntes.ipynb', 'nueva carperta']"
      ]
     },
     "execution_count": 77,
     "metadata": {},
     "output_type": "execute_result"
    }
   ],
   "source": [
    "os.listdir()"
   ]
  },
  {
   "cell_type": "code",
   "execution_count": null,
   "id": "4e0940d0",
   "metadata": {},
   "outputs": [],
   "source": []
  },
  {
   "cell_type": "code",
   "execution_count": null,
   "id": "5673e47b",
   "metadata": {},
   "outputs": [],
   "source": []
  },
  {
   "cell_type": "code",
   "execution_count": null,
   "id": "c2cbab0d",
   "metadata": {},
   "outputs": [],
   "source": []
  },
  {
   "cell_type": "code",
   "execution_count": null,
   "id": "d15e3054",
   "metadata": {},
   "outputs": [],
   "source": []
  },
  {
   "cell_type": "code",
   "execution_count": null,
   "id": "e31994bb",
   "metadata": {},
   "outputs": [],
   "source": []
  },
  {
   "cell_type": "code",
   "execution_count": null,
   "id": "f47e56de",
   "metadata": {},
   "outputs": [],
   "source": []
  },
  {
   "cell_type": "code",
   "execution_count": null,
   "id": "21c7c660",
   "metadata": {},
   "outputs": [],
   "source": []
  },
  {
   "cell_type": "code",
   "execution_count": null,
   "id": "04863926",
   "metadata": {},
   "outputs": [],
   "source": []
  },
  {
   "cell_type": "code",
   "execution_count": null,
   "id": "16522b52",
   "metadata": {},
   "outputs": [],
   "source": []
  },
  {
   "cell_type": "code",
   "execution_count": null,
   "id": "68e13e86",
   "metadata": {},
   "outputs": [],
   "source": []
  },
  {
   "cell_type": "code",
   "execution_count": null,
   "id": "a9c7962e",
   "metadata": {},
   "outputs": [],
   "source": []
  },
  {
   "cell_type": "code",
   "execution_count": null,
   "id": "477dae37",
   "metadata": {},
   "outputs": [],
   "source": []
  },
  {
   "cell_type": "code",
   "execution_count": null,
   "id": "84dba2eb",
   "metadata": {},
   "outputs": [],
   "source": []
  },
  {
   "cell_type": "code",
   "execution_count": null,
   "id": "7a6beae7",
   "metadata": {},
   "outputs": [],
   "source": []
  },
  {
   "cell_type": "code",
   "execution_count": null,
   "id": "96f76213",
   "metadata": {},
   "outputs": [],
   "source": []
  },
  {
   "cell_type": "code",
   "execution_count": null,
   "id": "24aaba69",
   "metadata": {},
   "outputs": [],
   "source": []
  },
  {
   "cell_type": "code",
   "execution_count": null,
   "id": "9125b253",
   "metadata": {},
   "outputs": [],
   "source": []
  },
  {
   "cell_type": "code",
   "execution_count": null,
   "id": "69b726f9",
   "metadata": {},
   "outputs": [],
   "source": []
  },
  {
   "cell_type": "code",
   "execution_count": null,
   "id": "43fb9b33",
   "metadata": {},
   "outputs": [],
   "source": []
  },
  {
   "cell_type": "code",
   "execution_count": null,
   "id": "d58a10f7",
   "metadata": {},
   "outputs": [],
   "source": []
  },
  {
   "cell_type": "code",
   "execution_count": null,
   "id": "3aa6b15e",
   "metadata": {},
   "outputs": [],
   "source": []
  },
  {
   "cell_type": "code",
   "execution_count": null,
   "id": "7c30661f",
   "metadata": {},
   "outputs": [],
   "source": []
  },
  {
   "cell_type": "code",
   "execution_count": null,
   "id": "d4a29466",
   "metadata": {},
   "outputs": [],
   "source": []
  },
  {
   "cell_type": "code",
   "execution_count": null,
   "id": "4f463dd9",
   "metadata": {},
   "outputs": [],
   "source": []
  },
  {
   "cell_type": "code",
   "execution_count": null,
   "id": "11b70e46",
   "metadata": {},
   "outputs": [],
   "source": []
  },
  {
   "cell_type": "code",
   "execution_count": null,
   "id": "4b85bae6",
   "metadata": {},
   "outputs": [],
   "source": []
  },
  {
   "cell_type": "code",
   "execution_count": null,
   "id": "4b4e0776",
   "metadata": {},
   "outputs": [],
   "source": []
  },
  {
   "cell_type": "code",
   "execution_count": null,
   "id": "6a095a28",
   "metadata": {},
   "outputs": [],
   "source": []
  },
  {
   "cell_type": "code",
   "execution_count": null,
   "id": "7b8e5a0a",
   "metadata": {},
   "outputs": [],
   "source": []
  }
 ],
 "metadata": {
  "kernelspec": {
   "display_name": "py-312",
   "language": "python",
   "name": "python3"
  },
  "language_info": {
   "codemirror_mode": {
    "name": "ipython",
    "version": 3
   },
   "file_extension": ".py",
   "mimetype": "text/x-python",
   "name": "python",
   "nbconvert_exporter": "python",
   "pygments_lexer": "ipython3",
   "version": "3.12.11"
  }
 },
 "nbformat": 4,
 "nbformat_minor": 5
}

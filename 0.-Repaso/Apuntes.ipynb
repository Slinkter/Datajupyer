{
 "cells": [
  {
   "cell_type": "code",
   "execution_count": 1,
   "id": "3e29b3ef-d480-4fde-b299-d3737dcd107d",
   "metadata": {},
   "outputs": [
    {
     "name": "stdout",
     "output_type": "stream",
     "text": [
      "hola\n"
     ]
    }
   ],
   "source": [
    "print(\"hola\")"
   ]
  },
  {
   "cell_type": "code",
   "execution_count": 1,
   "id": "fc9bfb66",
   "metadata": {},
   "outputs": [],
   "source": [
    "countries=[\"Argentina\", \"Brasil\", \"Colombia\", \"Chile\", \"Peru\"]"
   ]
  },
  {
   "cell_type": "code",
   "execution_count": 2,
   "id": "2acecb8c",
   "metadata": {},
   "outputs": [
    {
     "name": "stdout",
     "output_type": "stream",
     "text": [
      "['Argentina', 'Brasil', 'Colombia', 'Chile', 'Peru']\n"
     ]
    }
   ],
   "source": [
    "print(countries)"
   ]
  },
  {
   "cell_type": "code",
   "execution_count": 10,
   "id": "f051b7eb",
   "metadata": {},
   "outputs": [
    {
     "name": "stdout",
     "output_type": "stream",
     "text": [
      "['Argentina', 'Brasil', 'Colombia', 'Chile']\n"
     ]
    }
   ],
   "source": [
    "print(countries[0:-1])"
   ]
  },
  {
   "cell_type": "code",
   "execution_count": 12,
   "id": "62324b15",
   "metadata": {},
   "outputs": [
    {
     "data": {
      "text/plain": [
       "['Argentina', 'Brasil', 'Colombia', 'Chile']"
      ]
     },
     "execution_count": 12,
     "metadata": {},
     "output_type": "execute_result"
    }
   ],
   "source": [
    "countries[:-1]"
   ]
  },
  {
   "cell_type": "code",
   "execution_count": 16,
   "id": "1375a95d",
   "metadata": {},
   "outputs": [
    {
     "data": {
      "text/plain": [
       "['Argentina']"
      ]
     },
     "execution_count": 16,
     "metadata": {},
     "output_type": "execute_result"
    }
   ],
   "source": [
    "countries[0:1]"
   ]
  },
  {
   "cell_type": "code",
   "execution_count": 17,
   "id": "0bbf892f",
   "metadata": {},
   "outputs": [],
   "source": [
    "countries.append(\"Canada\")"
   ]
  },
  {
   "cell_type": "code",
   "execution_count": 18,
   "id": "d0798dc5",
   "metadata": {},
   "outputs": [
    {
     "name": "stdout",
     "output_type": "stream",
     "text": [
      "['Argentina', 'Brasil', 'Colombia', 'Chile', 'Peru', 'Canada']\n"
     ]
    }
   ],
   "source": [
    "print(countries)"
   ]
  },
  {
   "cell_type": "code",
   "execution_count": 19,
   "id": "a04352a4",
   "metadata": {},
   "outputs": [],
   "source": [
    "countries.insert(0,\"Venezuela\")"
   ]
  },
  {
   "cell_type": "code",
   "execution_count": 20,
   "id": "67d48d5f",
   "metadata": {},
   "outputs": [
    {
     "name": "stdout",
     "output_type": "stream",
     "text": [
      "['Venezuela', 'Argentina', 'Brasil', 'Colombia', 'Chile', 'Peru', 'Canada']\n"
     ]
    }
   ],
   "source": [
    "print(countries)"
   ]
  },
  {
   "cell_type": "code",
   "execution_count": 21,
   "id": "8f4895f1",
   "metadata": {},
   "outputs": [],
   "source": [
    "contries_2 = [\"UK\", \"Germany\", \"France\"]"
   ]
  },
  {
   "cell_type": "code",
   "execution_count": 22,
   "id": "e8d2cbf7",
   "metadata": {},
   "outputs": [
    {
     "data": {
      "text/plain": [
       "['Venezuela',\n",
       " 'Argentina',\n",
       " 'Brasil',\n",
       " 'Colombia',\n",
       " 'Chile',\n",
       " 'Peru',\n",
       " 'Canada',\n",
       " 'UK',\n",
       " 'Germany',\n",
       " 'France']"
      ]
     },
     "execution_count": 22,
     "metadata": {},
     "output_type": "execute_result"
    }
   ],
   "source": [
    "countries + contries_2"
   ]
  },
  {
   "cell_type": "code",
   "execution_count": 26,
   "id": "d642fea9",
   "metadata": {},
   "outputs": [
    {
     "name": "stdout",
     "output_type": "stream",
     "text": [
      "['Venezuela', 'Argentina', 'Brasil', 'Colombia', 'Chile', 'Peru', 'Canada', 'UK', 'Germany', 'France']\n"
     ]
    }
   ],
   "source": [
    "nueva_lista = countries + contries_2\n",
    "print(nueva_lista)"
   ]
  },
  {
   "cell_type": "code",
   "execution_count": null,
   "id": "19a27f4a",
   "metadata": {},
   "outputs": [
    {
     "ename": "ValueError",
     "evalue": "list.remove(x): x not in list",
     "output_type": "error",
     "traceback": [
      "\u001b[31m---------------------------------------------------------------------------\u001b[39m",
      "\u001b[31mValueError\u001b[39m                                Traceback (most recent call last)",
      "\u001b[36mCell\u001b[39m\u001b[36m \u001b[39m\u001b[32mIn[29]\u001b[39m\u001b[32m, line 2\u001b[39m\n\u001b[32m      1\u001b[39m \u001b[38;5;28mtype\u001b[39m(nueva_lista)\n\u001b[32m----> \u001b[39m\u001b[32m2\u001b[39m nueva_lista.remove(\u001b[33m\"\u001b[39m\u001b[33mUK\u001b[39m\u001b[33m\"\u001b[39m)\n\u001b[32m      3\u001b[39m nueva_lista\n",
      "\u001b[31mValueError\u001b[39m: list.remove(x): x not in list"
     ]
    }
   ],
   "source": [
    "type(nueva_lista)\n",
    "nueva_lista.remove(\"UK\")\n"
   ]
  },
  {
   "cell_type": "code",
   "execution_count": 30,
   "id": "0dcf5690",
   "metadata": {},
   "outputs": [
    {
     "data": {
      "text/plain": [
       "['Venezuela',\n",
       " 'Argentina',\n",
       " 'Brasil',\n",
       " 'Colombia',\n",
       " 'Chile',\n",
       " 'Peru',\n",
       " 'Canada',\n",
       " 'Germany',\n",
       " 'France']"
      ]
     },
     "execution_count": 30,
     "metadata": {},
     "output_type": "execute_result"
    }
   ],
   "source": [
    "nueva_lista"
   ]
  },
  {
   "cell_type": "code",
   "execution_count": 31,
   "id": "b1d21250",
   "metadata": {},
   "outputs": [
    {
     "data": {
      "text/plain": [
       "'Argentina'"
      ]
     },
     "execution_count": 31,
     "metadata": {},
     "output_type": "execute_result"
    }
   ],
   "source": [
    "nueva_lista.pop(1)"
   ]
  },
  {
   "cell_type": "code",
   "execution_count": 32,
   "id": "7fc36d25",
   "metadata": {},
   "outputs": [
    {
     "name": "stdout",
     "output_type": "stream",
     "text": [
      "['Venezuela', 'Brasil', 'Colombia', 'Chile', 'Peru', 'Canada', 'Germany', 'France']\n"
     ]
    }
   ],
   "source": [
    "print(nueva_lista)"
   ]
  },
  {
   "cell_type": "code",
   "execution_count": 33,
   "id": "f1a3a1ab",
   "metadata": {},
   "outputs": [],
   "source": [
    "del nueva_lista[0]"
   ]
  },
  {
   "cell_type": "code",
   "execution_count": 34,
   "id": "002e6bbb",
   "metadata": {},
   "outputs": [
    {
     "data": {
      "text/plain": [
       "['Brasil', 'Colombia', 'Chile', 'Peru', 'Canada', 'Germany', 'France']"
      ]
     },
     "execution_count": 34,
     "metadata": {},
     "output_type": "execute_result"
    }
   ],
   "source": [
    "nueva_lista\n"
   ]
  },
  {
   "cell_type": "code",
   "execution_count": 36,
   "id": "575b94b3",
   "metadata": {},
   "outputs": [],
   "source": [
    "numbers = [3,4,1,6,3,8,9,0,2]"
   ]
  },
  {
   "cell_type": "code",
   "execution_count": 39,
   "id": "b15e816f",
   "metadata": {},
   "outputs": [],
   "source": [
    "numbers.sort()"
   ]
  },
  {
   "cell_type": "code",
   "execution_count": 40,
   "id": "28917375",
   "metadata": {},
   "outputs": [
    {
     "data": {
      "text/plain": [
       "[0, 1, 2, 3, 3, 4, 6, 8, 9]"
      ]
     },
     "execution_count": 40,
     "metadata": {},
     "output_type": "execute_result"
    }
   ],
   "source": [
    "numbers"
   ]
  },
  {
   "cell_type": "code",
   "execution_count": 41,
   "id": "f42bc7f9",
   "metadata": {},
   "outputs": [],
   "source": [
    "numbers.sort(reverse=True)"
   ]
  },
  {
   "cell_type": "code",
   "execution_count": 42,
   "id": "b41f398f",
   "metadata": {},
   "outputs": [
    {
     "data": {
      "text/plain": [
       "[9, 8, 6, 4, 3, 3, 2, 1, 0]"
      ]
     },
     "execution_count": 42,
     "metadata": {},
     "output_type": "execute_result"
    }
   ],
   "source": [
    "numbers"
   ]
  },
  {
   "cell_type": "code",
   "execution_count": 44,
   "id": "20aa9d6e",
   "metadata": {},
   "outputs": [],
   "source": [
    "numbers[0] = 1000"
   ]
  },
  {
   "cell_type": "code",
   "execution_count": 45,
   "id": "80978dd5",
   "metadata": {},
   "outputs": [
    {
     "data": {
      "text/plain": [
       "[1000, 8, 6, 4, 3, 3, 2, 1, 0]"
      ]
     },
     "execution_count": 45,
     "metadata": {},
     "output_type": "execute_result"
    }
   ],
   "source": [
    "numbers"
   ]
  },
  {
   "cell_type": "code",
   "execution_count": 46,
   "id": "0e515dcf",
   "metadata": {},
   "outputs": [
    {
     "name": "stdout",
     "output_type": "stream",
     "text": [
      "[1000, 8, 6, 4, 3, 3, 2, 1, 0]\n"
     ]
    }
   ],
   "source": [
    "nueva_array = numbers.copy()\n",
    "print(nueva_array)"
   ]
  },
  {
   "cell_type": "code",
   "execution_count": 47,
   "id": "58e02fd2",
   "metadata": {},
   "outputs": [
    {
     "data": {
      "text/plain": [
       "['Brasil', 'Colombia']"
      ]
     },
     "execution_count": 47,
     "metadata": {},
     "output_type": "execute_result"
    }
   ],
   "source": [
    "nueva_lista[0:2]\n"
   ]
  },
  {
   "cell_type": "code",
   "execution_count": 51,
   "id": "846c334a",
   "metadata": {},
   "outputs": [],
   "source": [
    "nuevo_array_2 = numbers[:]"
   ]
  },
  {
   "cell_type": "code",
   "execution_count": 52,
   "id": "8844f4b6",
   "metadata": {},
   "outputs": [
    {
     "data": {
      "text/plain": [
       "[1000, 8, 6, 4, 3, 3, 2, 1, 0]"
      ]
     },
     "execution_count": 52,
     "metadata": {},
     "output_type": "execute_result"
    }
   ],
   "source": [
    "nuevo_array_2"
   ]
  },
  {
   "cell_type": "code",
   "execution_count": null,
   "id": "10072b04",
   "metadata": {},
   "outputs": [],
   "source": []
  },
  {
   "cell_type": "code",
   "execution_count": 54,
   "id": "403227f0",
   "metadata": {},
   "outputs": [
    {
     "name": "stdout",
     "output_type": "stream",
     "text": [
      "{'key1': 1, 'key2': 2, 'key3': 3}\n"
     ]
    }
   ],
   "source": [
    "mi_diccionario = {\"key1\":1 , \"key2\":2, \"key3\":3}\n",
    "print(mi_diccionario)"
   ]
  },
  {
   "cell_type": "code",
   "execution_count": 56,
   "id": "e301330e",
   "metadata": {},
   "outputs": [
    {
     "name": "stdout",
     "output_type": "stream",
     "text": [
      "{'name': 'liam', 'age': 25, 'country': 'UK'}\n"
     ]
    }
   ],
   "source": [
    "my_data = {\"name\":\"liam\", \"age\":25, \"country\":\"UK\"}\n",
    "print(my_data)"
   ]
  },
  {
   "cell_type": "code",
   "execution_count": 57,
   "id": "d28f5902",
   "metadata": {},
   "outputs": [
    {
     "data": {
      "text/plain": [
       "'liam'"
      ]
     },
     "execution_count": 57,
     "metadata": {},
     "output_type": "execute_result"
    }
   ],
   "source": [
    "my_data[\"name\"]"
   ]
  },
  {
   "cell_type": "code",
   "execution_count": 58,
   "id": "f9d82bde",
   "metadata": {},
   "outputs": [
    {
     "data": {
      "text/plain": [
       "dict_keys(['name', 'age', 'country'])"
      ]
     },
     "execution_count": 58,
     "metadata": {},
     "output_type": "execute_result"
    }
   ],
   "source": [
    "my_data.keys()"
   ]
  },
  {
   "cell_type": "code",
   "execution_count": 59,
   "id": "d21aa3fb",
   "metadata": {},
   "outputs": [
    {
     "data": {
      "text/plain": [
       "dict_values(['liam', 25, 'UK'])"
      ]
     },
     "execution_count": 59,
     "metadata": {},
     "output_type": "execute_result"
    }
   ],
   "source": [
    "my_data.values()"
   ]
  },
  {
   "cell_type": "code",
   "execution_count": 60,
   "id": "b1c899be",
   "metadata": {},
   "outputs": [
    {
     "data": {
      "text/plain": [
       "dict_items([('name', 'liam'), ('age', 25), ('country', 'UK')])"
      ]
     },
     "execution_count": 60,
     "metadata": {},
     "output_type": "execute_result"
    }
   ],
   "source": [
    "my_data.items()"
   ]
  },
  {
   "cell_type": "code",
   "execution_count": 3,
   "id": "ff992d4a",
   "metadata": {},
   "outputs": [],
   "source": [
    "my_person = {\"name\":\"liam\", \"age\":25, \"country\":\"UK\"}"
   ]
  },
  {
   "cell_type": "code",
   "execution_count": 4,
   "id": "3e1fbd10",
   "metadata": {},
   "outputs": [
    {
     "name": "stdout",
     "output_type": "stream",
     "text": [
      "{'name': 'liam', 'age': 29, 'country': 'UK'}\n"
     ]
    }
   ],
   "source": [
    "my_person[\"age\"] = 29\n",
    "print(my_person)"
   ]
  },
  {
   "cell_type": "code",
   "execution_count": 5,
   "id": "727f1c74",
   "metadata": {},
   "outputs": [
    {
     "name": "stdout",
     "output_type": "stream",
     "text": [
      "{'name': 'liam', 'age': 30, 'country': 'UK', 'software': ['Python', 'R', 'SQL']}\n"
     ]
    }
   ],
   "source": [
    "my_person.update({\"age\":30 , \"software\":[\"Python\", \"R\", \"SQL\"]})\n",
    "print(my_person)"
   ]
  },
  {
   "cell_type": "code",
   "execution_count": null,
   "id": "7621c60d",
   "metadata": {},
   "outputs": [],
   "source": []
  },
  {
   "cell_type": "code",
   "execution_count": null,
   "id": "20cfa02b",
   "metadata": {},
   "outputs": [],
   "source": []
  },
  {
   "cell_type": "code",
   "execution_count": null,
   "id": "923ba731",
   "metadata": {},
   "outputs": [],
   "source": []
  },
  {
   "cell_type": "code",
   "execution_count": null,
   "id": "091b7edd",
   "metadata": {},
   "outputs": [],
   "source": []
  },
  {
   "cell_type": "code",
   "execution_count": null,
   "id": "68e6256e",
   "metadata": {},
   "outputs": [],
   "source": []
  },
  {
   "cell_type": "code",
   "execution_count": null,
   "id": "fbe35388",
   "metadata": {},
   "outputs": [],
   "source": []
  },
  {
   "cell_type": "code",
   "execution_count": null,
   "id": "98674d38",
   "metadata": {},
   "outputs": [],
   "source": []
  },
  {
   "cell_type": "code",
   "execution_count": null,
   "id": "1587c6bc",
   "metadata": {},
   "outputs": [],
   "source": []
  },
  {
   "cell_type": "code",
   "execution_count": null,
   "id": "a9b367f1",
   "metadata": {},
   "outputs": [],
   "source": []
  },
  {
   "cell_type": "code",
   "execution_count": null,
   "id": "275a7d79",
   "metadata": {},
   "outputs": [],
   "source": []
  },
  {
   "cell_type": "code",
   "execution_count": null,
   "id": "cd9c42cf",
   "metadata": {},
   "outputs": [],
   "source": []
  },
  {
   "cell_type": "code",
   "execution_count": null,
   "id": "130a6078",
   "metadata": {},
   "outputs": [],
   "source": []
  },
  {
   "cell_type": "code",
   "execution_count": null,
   "id": "7b88a2bd",
   "metadata": {},
   "outputs": [],
   "source": []
  },
  {
   "cell_type": "code",
   "execution_count": null,
   "id": "1e44c9b1",
   "metadata": {},
   "outputs": [],
   "source": []
  },
  {
   "cell_type": "code",
   "execution_count": null,
   "id": "3867bb10",
   "metadata": {},
   "outputs": [],
   "source": []
  },
  {
   "cell_type": "code",
   "execution_count": null,
   "id": "2e13a541",
   "metadata": {},
   "outputs": [],
   "source": []
  },
  {
   "cell_type": "code",
   "execution_count": null,
   "id": "80c52c84",
   "metadata": {},
   "outputs": [],
   "source": []
  },
  {
   "cell_type": "code",
   "execution_count": null,
   "id": "905d7611",
   "metadata": {},
   "outputs": [],
   "source": []
  },
  {
   "cell_type": "code",
   "execution_count": null,
   "id": "e91c06a5",
   "metadata": {},
   "outputs": [],
   "source": []
  },
  {
   "cell_type": "code",
   "execution_count": null,
   "id": "25697f8e",
   "metadata": {},
   "outputs": [],
   "source": []
  }
 ],
 "metadata": {
  "kernelspec": {
   "display_name": "py-312",
   "language": "python",
   "name": "python3"
  },
  "language_info": {
   "codemirror_mode": {
    "name": "ipython",
    "version": 3
   },
   "file_extension": ".py",
   "mimetype": "text/x-python",
   "name": "python",
   "nbconvert_exporter": "python",
   "pygments_lexer": "ipython3",
   "version": "3.12.11"
  }
 },
 "nbformat": 4,
 "nbformat_minor": 5
}
